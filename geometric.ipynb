{
 "cells": [
  {
   "cell_type": "code",
   "execution_count": 17,
   "metadata": {},
   "outputs": [],
   "source": [
    "## #----imports\n",
    "import math\n",
    "from math import sqrt, acos, degrees\n",
    "import numpy as np\n",
    "# from sympy import symbols, Eq, solve\n",
    "import csv\n",
    "import os\n",
    "from datetime import datetime"
   ]
  },
  {
   "cell_type": "code",
   "execution_count": null,
   "metadata": {},
   "outputs": [],
   "source": [
    "# Define known variables\n",
    "x1, y1, z1 = 1.0, 15.0, 8.0  # Example coordinates of the first point\n",
    "d1 = 1.0  # Distance from the first point to the second\n",
    "phi1 = 22.0  # Angle in degrees clockwise\n",
    "xb, yb, zb = 5.0, 8.0, 9.0  # Coordinates of the base point\n",
    "d3 = 8.0  # Example value for distance d3\n",
    "d4 = 1.0  # Example value for distance d4"
   ]
  },
  {
   "cell_type": "markdown",
   "metadata": {},
   "source": [
    " <!-- a code that calculate distance, spheare, circuil and Trim points. Using python in a few steps:\n",
    "1. I have a point (x_1,y_1,z_3), I have a length d_1 and Angle phi_1. I want to find the point (x_2,y_2,z_2) that is in a distance d_1 and angle phi_1 clock wise  from (x_1,y_1,z_1). \n",
    "2. I have (x_2,y_2,z_2) and (x_b,y_b,z_b) I want to calculate d_2 the distance between both of them.\n",
    "3. I have d_2, d_3, d_4 and I want to calculate the andle between  d_3, d_4 using cos-sin smathematicle sentense.\n",
    "\n",
    "(x_1,y_1,z_3), (x_b,y_b,z_b), phi_1, d_3, d_4 are known variblse  -->"
   ]
  },
  {
   "cell_type": "code",
   "execution_count": 19,
   "metadata": {},
   "outputs": [
    {
     "name": "stdout",
     "output_type": "stream",
     "text": [
      "Second point: (1.93, 15.37, 8.00)\n",
      "Distance between second point and base point: 8.05\n",
      "Angle between d3 and d4: 89.38 degrees\n"
     ]
    }
   ],
   "source": [
    "def calculate_second_point(x1, y1, z1, d1, phi1):\n",
    "    # Convert phi1 to radians for calculations\n",
    "    phi1_rad = math.radians(phi1)\n",
    "    x2 = x1 + d1 * math.cos(phi1_rad)\n",
    "    y2 = y1 + d1 * math.sin(phi1_rad)\n",
    "    z2 = z1  # Assuming z2 remains the same since no vertical angle is provided\n",
    "    return x2, y2, z2\n",
    "\n",
    "def calculate_distance(x1, y1, z1, x2, y2, z2):\n",
    "    return math.sqrt((x2 - x1) ** 2 + (y2 - y1) ** 2 + (z2 - z1) ** 2)\n",
    "\n",
    "def calculate_angle_between_vectors(d3, d4, d2):\n",
    "    # Using the cosine rule\n",
    "    try:\n",
    "        angle_rad = math.acos((d3 ** 2 + d4 ** 2 - d2 ** 2) / (2 * d3 * d4))\n",
    "        angle_deg = math.degrees(angle_rad)\n",
    "        return angle_rad, angle_deg\n",
    "    except ValueError:\n",
    "        return None, \"Invalid input values for calculating angle. Check distances.\"\n",
    "\n",
    "\n",
    "\n",
    "# Step 1: Calculate the second point\n",
    "x2, y2, z2 = calculate_second_point(x1, y1, z1, d1, phi1)\n",
    "print(f\"Second point: ({x2:.2f}, {y2:.2f}, {z2:.2f})\")\n",
    "\n",
    "# Step 2: Calculate the distance between the second point and the base point\n",
    "d2 = calculate_distance(x2, y2, z2, xb, yb, zb)\n",
    "print(f\"Distance between second point and base point: {d2:.2f}\")\n",
    "\n",
    "# Step 3: Calculate the angle between d3 and d4\n",
    "angle_rad, angle_deg = calculate_angle_between_vectors(d3, d4, d2)\n",
    "if angle_rad is not None:\n",
    "    print(f\"Angle between d3 and d4: {angle_deg:.2f} degrees\")\n",
    "else:\n",
    "    print(angle_deg)\n",
    "\n",
    "phi_2 = angle_deg"
   ]
  },
  {
   "cell_type": "markdown",
   "metadata": {},
   "source": [
    "<!-- lets call the angle from before phi_2.\n",
    "1. I want to have a circuil equestion by using (x_2,y_2,z_2) as it's center and d_1  is the radius (the distance between(x_2,y_2,z_2) and (x_1,y_1,z_1)).\n",
    "\n",
    "2.  I want to have a sphear that its center is (x_b,y_b,z_b) and it's radius is d_2 (the distance between (x_b,y_b,z_b) and (x_1,y_1,z_1) surface sphear)\n",
    "\n",
    "3. I want to calculate all the Trim points between teh sphear and the circuil. -->"
   ]
  },
  {
   "cell_type": "code",
   "execution_count": 20,
   "metadata": {},
   "outputs": [
    {
     "name": "stdout",
     "output_type": "stream",
     "text": [
      "Trim points between circle and sphere:\n",
      "(2.87, 15.70, 8.00)\n",
      "(1.03, 14.93, 8.00)\n"
     ]
    }
   ],
   "source": [
    "# #-----versition#3\n",
    "def calculate_second_point(x1, y1, z1, d1, phi1):\n",
    "    phi1_rad = math.radians(phi1)\n",
    "    x2 = x1 + d1 * math.cos(phi1_rad)\n",
    "    y2 = y1 + d1 * math.sin(phi1_rad)\n",
    "    return x2, y2, z1\n",
    "\n",
    "def calculate_distance(x1, y1, z1, x2, y2, z2):\n",
    "    return math.sqrt((x2 - x1) ** 2 + (y2 - y1) ** 2 + (z2 - z1) ** 2)\n",
    "\n",
    "def calculate_trim_points(circle_center, circle_radius, sphere_center, sphere_radius):\n",
    "    cx, cy, cz = circle_center\n",
    "    sx, sy, sz = sphere_center\n",
    "\n",
    "    # Distance from sphere center to plane of circle\n",
    "    dz = cz - sz\n",
    "    if abs(dz) > sphere_radius:\n",
    "        return []  # No intersection\n",
    "\n",
    "    # Radius of sphere's cross-section at that plane\n",
    "    r_cross = math.sqrt(sphere_radius**2 - dz**2)\n",
    "\n",
    "    # Now we have two circles in XY plane:\n",
    "    # 1. center=(cx,cy), radius=circle_radius\n",
    "    # 2. center=(sx,sy), radius=r_cross\n",
    "    dx = sx - cx\n",
    "    dy = sy - cy\n",
    "    d = math.sqrt(dx**2 + dy**2)\n",
    "\n",
    "    # No intersection cases\n",
    "    if d > circle_radius + r_cross or d < abs(circle_radius - r_cross):\n",
    "        return []\n",
    "\n",
    "    # Circle-circle intersection in 2D\n",
    "    a = (circle_radius**2 - r_cross**2 + d**2) / (2*d)\n",
    "    h = math.sqrt(max(circle_radius**2 - a**2, 0))\n",
    "    xm = cx + a * dx / d\n",
    "    ym = cy + a * dy / d\n",
    "\n",
    "    rx = -dy * (h / d)\n",
    "    ry = dx * (h / d)\n",
    "\n",
    "    p1 = (xm + rx, ym + ry, cz)\n",
    "    p2 = (xm - rx, ym - ry, cz)\n",
    "    return [p1, p2]\n",
    "\n",
    "# Calculate second point\n",
    "x2, y2, z2 = calculate_second_point(x1, y1, z1, d1, phi1)\n",
    "\n",
    "# Calculate d2\n",
    "d2 = calculate_distance(x2, y2, z2, xb, yb, zb)\n",
    "\n",
    "# # Setup centers for calculations\n",
    "# circle_center = np.array([x2, y2, z2])\n",
    "# sphere_center = np.array([xb, yb, zb])\n",
    "\n",
    "# Compute intersections\n",
    "trim_points = calculate_trim_points((x2, y2, z2), d1, (xb, yb, zb), d2)\n",
    "\n",
    "print(\"Trim points between circle and sphere:\")\n",
    "for pt in trim_points:\n",
    "    print(f\"({pt[0]:.2f}, {pt[1]:.2f}, {pt[2]:.2f})\")"
   ]
  },
  {
   "cell_type": "code",
   "execution_count": 21,
   "metadata": {},
   "outputs": [
    {
     "name": "stdout",
     "output_type": "stream",
     "text": [
      "Angle calculations for each trim point:\n",
      "Trim point: (2.87, 15.70, 8.00), Phi_3: 177.03°\n",
      "Trim point: (1.03, 14.93, 8.00), Phi_3: 4.21°\n"
     ]
    }
   ],
   "source": [
    "from math import acos, degrees, sqrt\n",
    "\n",
    "# Function to calculate distance between two points\n",
    "def calculate_distance(point1, point2):\n",
    "    return sqrt((point1[0] - point2[0])**2 + \n",
    "                (point1[1] - point2[1])**2 + \n",
    "                (point1[2] - point2[2])**2)\n",
    "\n",
    "# Define distances and coordinates lists\n",
    "x4, y4, z4 = [], [], []\n",
    "d4_list, d5_list = [], []\n",
    "\n",
    "# Distance between (x1, y1, z1) and (x2, y2, z2)\n",
    "d1 = calculate_distance((x1, y1, z1), (x2, y2, z2))\n",
    "\n",
    "print(\"Angle calculations for each trim point:\")\n",
    "for point in trim_points:\n",
    "    try:\n",
    "        # Trim point coordinates (already floats)\n",
    "        x, y, z = point\n",
    "        x4.append(x)\n",
    "        y4.append(y)\n",
    "        z4.append(z)\n",
    "        \n",
    "        # Distances from trim point\n",
    "        d5_val = calculate_distance((x1, y1, z1), (x, y, z))  # Distance to (x1, y1, z1)\n",
    "        d4_val = calculate_distance((x2, y2, z2), (x, y, z))  # Distance to (x2, y2, z2)\n",
    "        d5_list.append(d5_val)\n",
    "        d4_list.append(d4_val)\n",
    "        \n",
    "        # Calculate angle phi_3 using the Law of Cosines\n",
    "        if d1 > 0 and d4_val > 0:  \n",
    "            cos_phi3 = (d1**2 + d4_val**2 - d5_val**2) / (2 * d1 * d4_val)\n",
    "            cos_phi3 = max(-1, min(1, cos_phi3))  # Clamp to [-1, 1]\n",
    "            phi_3 = degrees(acos(cos_phi3))\n",
    "            print(f\"Trim point: ({x:.2f}, {y:.2f}, {z:.2f}), Phi_3: {phi_3:.2f}°\")\n",
    "        else:\n",
    "            print(f\"Trim point: ({x:.2f}, {y:.2f}, {z:.2f}), Phi_3: Undefined (d1 or d4 is zero)\")\n",
    "    except Exception as e:\n",
    "        print(f\"Error processing trim point {point}: {e}\")\n"
   ]
  },
  {
   "cell_type": "markdown",
   "metadata": {},
   "source": [
    "<!-- Lets call trim_points as (x_4_i,y_4_i) while i passing all the Trimp Points we found.\n",
    "\n",
    "Let's loop for value in trim_points:\n",
    "\n",
    "1. I want to calculate the disstance between (x_1,y_1) and the point (x_4_i,y_4_i) lets call it d5\n",
    "\n",
    "2. the disstance between (x_2,y_2) and the point (x_4_i,y_4_i) is d4.\n",
    "\n",
    "3. The distance between (x_1,y_1) and the point (x_2,y_2) is d1. \n",
    "\n",
    "4. I want to calculate the angle from d1 to d4 clock wise (very inportent) using \n",
    "Law of cosines. Lets call this angle phi_3 -->\n"
   ]
  },
  {
   "cell_type": "markdown",
   "metadata": {},
   "source": [
    "<!-- Using the trim_point (x_4,y_4,z_4)[0]  and phi_3[0]\n",
    "We calculate the distance :\n",
    "1. between (x2,y2) and (xb,yb) let's call it d6\n",
    "2. between (xb,yb) and (x4,y4) lets call it d7\n",
    "3. between (x4,y4) and (x2,y2)  lets call it d8\n",
    "\n",
    "use the cosine equestion to calculate the angle between f7 and d8 -->"
   ]
  },
  {
   "cell_type": "code",
   "execution_count": 22,
   "metadata": {},
   "outputs": [
    {
     "name": "stdout",
     "output_type": "stream",
     "text": [
      "Distances: d6: 7.99, d7: 7.99, d8: 1.00\n",
      "Angle between d7 and d8: 86.41°\n"
     ]
    }
   ],
   "source": [
    "from math import sqrt, acos, degrees\n",
    "\n",
    "# Function to calculate 2D distance\n",
    "def calculate_distance_2d(point1, point2):\n",
    "    return sqrt((point1[0] - point2[0])**2 + (point1[1] - point2[1])**2)\n",
    "\n",
    "# Function to calculate the angle using the cosine law\n",
    "def calculate_angle_cosine(d1, d2, d3):\n",
    "    if d1 * d2 == 0:\n",
    "        raise ValueError(\"Invalid distances, cannot calculate angle.\")\n",
    "    cos_theta = (d1**2 + d2**2 - d3**2) / (2 * d1 * d2)\n",
    "    cos_theta = max(min(cos_theta, 1), -1)  # Clamp to [-1, 1]\n",
    "    return degrees(acos(cos_theta))\n",
    "\n",
    "# Coordinates of first trim point (already floats)\n",
    "x4, y4, z4 = trim_points[0]\n",
    "\n",
    "# Calculate distances\n",
    "d6 = calculate_distance_2d((x2, y2), (xb, yb))  # (x2,y2) ↔ (xb,yb)\n",
    "d7 = calculate_distance_2d((xb, yb), (x4, y4))  # (xb,yb) ↔ (x4,y4)\n",
    "d8 = calculate_distance_2d((x4, y4), (x2, y2))  # (x4,y4) ↔ (x2,y2)\n",
    "\n",
    "# Calculate angle\n",
    "try:\n",
    "    angle_f7_d8 = calculate_angle_cosine(d7, d8, d6)\n",
    "    print(f\"Distances: d6: {d6:.2f}, d7: {d7:.2f}, d8: {d8:.2f}\")\n",
    "    print(f\"Angle between d7 and d8: {angle_f7_d8:.2f}°\")\n",
    "except ValueError as e:\n",
    "    print(f\"Error calculating angle: {e}\")\n",
    "\n",
    "phi_4 = angle_f7_d8\n"
   ]
  },
  {
   "cell_type": "markdown",
   "metadata": {},
   "source": [
    "<!-- Calculate the angle between d7 and d6. call it phi_5 -->"
   ]
  },
  {
   "cell_type": "code",
   "execution_count": 23,
   "metadata": {},
   "outputs": [
    {
     "name": "stdout",
     "output_type": "stream",
     "text": [
      "Distances: d6: 7.99, d7: 7.99, d8: 1.00\n",
      "Angle between d7 and d6 (phi_5): 7.18°\n"
     ]
    }
   ],
   "source": [
    "# Calculate angles\n",
    "try:\n",
    "    phi_5 = calculate_angle_cosine(d7, d6, d8)  # Angle between d7 and d6\n",
    "    print(f\"Distances: d6: {d6:.2f}, d7: {d7:.2f}, d8: {d8:.2f}\")\n",
    "    print(f\"Angle between d7 and d6 (phi_5): {phi_5:.2f}°\")\n",
    "except ValueError as e:\n",
    "    print(f\"Error calculating angle: {e}\")\n"
   ]
  },
  {
   "cell_type": "markdown",
   "metadata": {},
   "source": [
    "<!-- Find the point that is distance from (x2,y2) in d6 and it have yb as a known value for y value. This point will be (x5,y5). chack if one of the  values is xb and if so ignore it  -->"
   ]
  },
  {
   "cell_type": "code",
   "execution_count": 24,
   "metadata": {},
   "outputs": [
    {
     "name": "stdout",
     "output_type": "stream",
     "text": [
      "Possible x-coordinates for the point (excluding xb=5.0): [-1.1456322908664256]\n",
      "Point: (-1.15, 8.00)\n"
     ]
    }
   ],
   "source": [
    "from math import sqrt\n",
    "\n",
    "def find_x_given_y_exclude_xb(x2, y2, yb, d6, xb):\n",
    "    try:\n",
    "        term = d6**2 - (yb - y2)**2\n",
    "        if term < 0:\n",
    "            raise ValueError(\"No real solution exists for the given inputs.\")\n",
    "        \n",
    "        sqrt_term = sqrt(term)\n",
    "        x5_positive = x2 + sqrt_term\n",
    "        x5_negative = x2 - sqrt_term\n",
    "        \n",
    "        # Exclude xb from the results\n",
    "        solutions = []\n",
    "        if abs(x5_positive - xb) > 1e-6:  # Tolerance for floating-point comparisons\n",
    "            solutions.append(x5_positive)\n",
    "        if abs(x5_negative - xb) > 1e-6:\n",
    "            solutions.append(x5_negative)\n",
    "        \n",
    "        return solutions\n",
    "    except Exception as e:\n",
    "        print(f\"Error: {e}\")\n",
    "        return []\n",
    "\n",
    "x5_solutions = find_x_given_y_exclude_xb(x2, y2, yb, d6, xb)\n",
    "if x5_solutions:\n",
    "    print(f\"Possible x-coordinates for the point (excluding xb={xb}): {x5_solutions}\")\n",
    "    for x5 in x5_solutions:\n",
    "        print(f\"Point: ({x5:.2f}, {yb:.2f})\")\n",
    "else:\n",
    "    print(\"No solution found.\")\n"
   ]
  },
  {
   "cell_type": "markdown",
   "metadata": {},
   "source": [
    "<!-- The distance between (x5,y5) to (xb,yb) call it d7 \n",
    "use the cosine sentense to calculate the angle between d6 and d7 (the values are d6,d6 and d7)\n",
    "This angle will call phi_6 -->"
   ]
  },
  {
   "cell_type": "code",
   "execution_count": 25,
   "metadata": {},
   "outputs": [
    {
     "name": "stdout",
     "output_type": "stream",
     "text": [
      "Distance d6: 3.61\n",
      "Distance d7: 2.00\n",
      "Angle phi_6: 32.20°\n"
     ]
    }
   ],
   "source": [
    "from math import acos, degrees, sqrt\n",
    "\n",
    "# Function to calculate distance between two points\n",
    "def calculate_distance(point1, point2):\n",
    "    return sqrt((point1[0] - point2[0])**2 + (point1[1] - point2[1])**2)\n",
    "\n",
    "# Function to calculate phi_6\n",
    "def calculate_phi_6(x2, y2, x5, y5, xb, yb):\n",
    "    try:\n",
    "        # Calculate distances\n",
    "        d6 = calculate_distance((x2, y2), (x5, y5))\n",
    "        d7 = calculate_distance((x5, y5), (xb, yb))\n",
    "        \n",
    "        # Use the Law of Cosines to calculate the angle\n",
    "        if d6 > 0:  # Ensure d6 is non-zero to avoid division by zero\n",
    "            cos_phi_6 = (d6**2 + d6**2 - d7**2) / (2 * d6 * d6)\n",
    "            # Clamp cos_phi_6 to the range [-1, 1] to handle floating-point inaccuracies\n",
    "            cos_phi_6 = max(-1, min(1, cos_phi_6))\n",
    "            phi_6 = degrees(acos(cos_phi_6))\n",
    "            return d6, d7, phi_6\n",
    "        else:\n",
    "            raise ValueError(\"d6 is zero, cannot calculate angle.\")\n",
    "    except Exception as e:\n",
    "        print(f\"Error: {e}\")\n",
    "        return None, None, None\n",
    "\n",
    "# Example usage\n",
    "x2, y2 = 5, 5  # Coordinates of point 2\n",
    "x5, y5 = 8, 7  # Coordinates of point 5\n",
    "xb, yb = 6, 7  # Coordinates of point b\n",
    "\n",
    "d6, d7, phi_6 = calculate_phi_6(x2, y2, x5, y5, xb, yb)\n",
    "if phi_6 is not None:\n",
    "    print(f\"Distance d6: {d6:.2f}\")\n",
    "    print(f\"Distance d7: {d7:.2f}\")\n",
    "    print(f\"Angle phi_6: {phi_6:.2f}°\")\n",
    "else:\n",
    "    print(\"Failed to calculate phi_6.\")\n"
   ]
  },
  {
   "cell_type": "markdown",
   "metadata": {},
   "source": [
    "<!-- Sum phi_5 + phi_6 - 60 dgrees -->"
   ]
  },
  {
   "cell_type": "code",
   "execution_count": 26,
   "metadata": {},
   "outputs": [
    {
     "data": {
      "text/plain": [
       "-20.619411759765207"
      ]
     },
     "execution_count": 26,
     "metadata": {},
     "output_type": "execute_result"
    }
   ],
   "source": [
    "phi_7 = phi_5 + phi_6 - 60\n",
    "phi_7"
   ]
  },
  {
   "cell_type": "markdown",
   "metadata": {},
   "source": [
    "<!-- Let's calculate phi_8 angle by using the projection the trapezoid between (𝑥1,𝑦1,𝑧1), (𝑥4,𝑦4,𝑧4), (xb,yb,zb) and the base\n",
    " -->\n"
   ]
  },
  {
   "cell_type": "code",
   "execution_count": 27,
   "metadata": {},
   "outputs": [
    {
     "name": "stdout",
     "output_type": "stream",
     "text": [
      "phi_8: 90.62°\n"
     ]
    }
   ],
   "source": [
    "phi_8 = 360 - (phi_2 + 90 + 90)\n",
    "print(f\"phi_8: {phi_8:.2f}°\")"
   ]
  },
  {
   "cell_type": "markdown",
   "metadata": {},
   "source": [
    "<!-- y9=yb and z9 = z4\n",
    "To calculate the angle between arm (y2,z2),(yb,zb) to arm (yb,zb),(y9,z9) \n",
    "call it phi_9. -->"
   ]
  },
  {
   "cell_type": "code",
   "execution_count": 28,
   "metadata": {},
   "outputs": [
    {
     "name": "stdout",
     "output_type": "stream",
     "text": [
      "Distances: d_yb_z2: 2.24, d_yb_z9: 1.00, d_z2_z9: 2.00\n",
      "Angle between arms (phi_9): 63.43°\n"
     ]
    }
   ],
   "source": [
    "from math import acos, degrees, sqrt\n",
    "\n",
    "# Function to calculate distance in 2D\n",
    "def calculate_distance_2d(coord1, coord2):\n",
    "    return sqrt((coord1[0] - coord2[0])**2 + (coord1[1] - coord2[1])**2)\n",
    "\n",
    "# Function to calculate angle using cosine law\n",
    "def calculate_angle_cosine(d1, d2, d3):\n",
    "    if d1 * d2 == 0:\n",
    "        raise ValueError(\"Invalid distances, cannot calculate angle.\")\n",
    "    cos_theta = (d1**2 + d2**2 - d3**2) / (2 * d1 * d2)\n",
    "    cos_theta = max(min(cos_theta, 1), -1)  # Clamp to avoid numerical issues\n",
    "    return degrees(acos(cos_theta))\n",
    "\n",
    "# Known coordinates (z9 is the z-coordinate of the first trim point)\n",
    "y9, z9 = yb, trim_points[0][2]\n",
    "\n",
    "# Calculate distances\n",
    "d_yb_z2 = calculate_distance_2d((y2, z2), (yb, zb))  # Distance (y2,z2) ↔ (yb,zb)\n",
    "d_yb_z9 = calculate_distance_2d((yb, zb), (y9, z9))  # Distance (yb,zb) ↔ (y9,z9)\n",
    "d_z2_z9 = calculate_distance_2d((y2, z2), (y9, z9))  # Distance (y2,z2) ↔ (y9,z9)\n",
    "\n",
    "# Calculate phi_9\n",
    "try:\n",
    "    phi_9 = calculate_angle_cosine(d_yb_z2, d_yb_z9, d_z2_z9)\n",
    "    print(f\"Distances: d_yb_z2: {d_yb_z2:.2f}, d_yb_z9: {d_yb_z9:.2f}, d_z2_z9: {d_z2_z9:.2f}\")\n",
    "    print(f\"Angle between arms (phi_9): {phi_9:.2f}°\")\n",
    "except ValueError as e:\n",
    "    print(f\"Error calculating angle: {e}\")\n"
   ]
  },
  {
   "cell_type": "code",
   "execution_count": 30,
   "metadata": {},
   "outputs": [
    {
     "name": "stdout",
     "output_type": "stream",
     "text": [
      "Data has been saved to geo_data.csv\n"
     ]
    }
   ],
   "source": [
    "\n",
    "# Your data variables (example placeholders)\n",
    "L1, L2, L3, L4, L5, L6 = 1, 2, 3, 4, 5, 6\n",
    "x1, y1, z1 = 1, 2, 3\n",
    "x4, y4, z4 = 4, 5, 6\n",
    "xa, ya, za = 7, 8, 9\n",
    "xb, yb, zb = 10, 11, 12\n",
    "phi_1, phi_2, phi_3, phi_4, phi_5, phi_6, phi_7, phi_8, phi_9 = 10, 20, 30, 40, 50, 60, 70, 80, 90\n",
    "y2, z2 = 13, 14\n",
    "y9, z9 = 15, 16\n",
    "d_yb_z2, d_yb_z9, d_z2_z9 = 17, 18, 19\n",
    "\n",
    "# Get current timestamp\n",
    "current_time = datetime.now()\n",
    "\n",
    "# Prepare header and data row\n",
    "headers = [\n",
    "    'timestamp',\n",
    "    'L1', 'L2', 'L3', 'L4', 'L5', 'L6',\n",
    "    'x1', 'y1', 'z1',\n",
    "    'x4', 'y4', 'z4',\n",
    "    'xa', 'ya', 'za',\n",
    "    'xb', 'yb', 'zb',\n",
    "    'phi_1', 'phi_2', 'phi_3', 'phi_4', 'phi_5', 'phi_6', 'phi_7', 'phi_8', 'phi_9',\n",
    "    'y2', 'z2',\n",
    "    'y9', 'z9',\n",
    "    'd_yb_z2', 'd_yb_z9', 'd_z2_z9'\n",
    "]\n",
    "\n",
    "data_row = [\n",
    "    current_time.isoformat(),\n",
    "    L1, L2, L3, L4, L5, L6,\n",
    "    x1, y1, z1,\n",
    "    x4, y4, z4,\n",
    "    xa, ya, za,\n",
    "    xb, yb, zb,\n",
    "    phi_1, phi_2, phi_3, phi_4, phi_5, phi_6, phi_7, phi_8, phi_9,\n",
    "    y2, z2,\n",
    "    y9, z9,\n",
    "    d_yb_z2, d_yb_z9, d_z2_z9\n",
    "]\n",
    "\n",
    "file_path = 'geo_data.csv'\n",
    "\n",
    "# Check if file exists to decide if we write headers\n",
    "write_header = not os.path.exists(file_path)\n",
    "\n",
    "with open(file_path, mode='a', newline='') as file:\n",
    "    writer = csv.writer(file)\n",
    "    if write_header:\n",
    "        writer.writerow(headers)\n",
    "    writer.writerow(data_row)\n",
    "\n",
    "print(f\"Data has been saved to {file_path}\")"
   ]
  }
 ],
 "metadata": {
  "kernelspec": {
   "display_name": "venv",
   "language": "python",
   "name": "python3"
  },
  "language_info": {
   "codemirror_mode": {
    "name": "ipython",
    "version": 3
   },
   "file_extension": ".py",
   "mimetype": "text/x-python",
   "name": "python",
   "nbconvert_exporter": "python",
   "pygments_lexer": "ipython3",
   "version": "3.10.11"
  }
 },
 "nbformat": 4,
 "nbformat_minor": 2
}
