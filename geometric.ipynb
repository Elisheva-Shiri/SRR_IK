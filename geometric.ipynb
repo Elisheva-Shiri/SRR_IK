{
 "cells": [
  {
   "cell_type": "markdown",
   "metadata": {},
   "source": [
    " a code that calculate distance, spheare, circuil and Trim points. Using python in a few steps:\n",
    "1. I have a point (x_1,y_1,z_3), I have a length d_1 and Angle phi_1. I want to find the point (x_2,y_2,z_2) that is in a distance d_1 and angle phi_1 clock wise  from (x_1,y_1,z_1). \n",
    "2. I have (x_2,y_2,z_2) and (x_b,y_b,z_b) I want to calculate d_2 the distance between both of them.\n",
    "3. I have d_2, d_3, d_4 and I want to calculate the andle between  d_3, d_4 using cos-sin smathematicle sentense.\n",
    "\n",
    "(x_1,y_1,z_3), (x_b,y_b,z_b), phi_1, d_3, d_4 are known variblse "
   ]
  },
  {
   "cell_type": "code",
   "execution_count": 37,
   "metadata": {},
   "outputs": [
    {
     "name": "stdout",
     "output_type": "stream",
     "text": [
      "Second point: (4.54, 5.54, 3.00)\n",
      "Distance between second point and base point: 6.94\n",
      "Angle between d3 and d4: 63.98 degrees\n"
     ]
    }
   ],
   "source": [
    "import math\n",
    "\n",
    "def calculate_second_point(x1, y1, z1, d1, phi1):\n",
    "    # Convert phi1 to radians for calculations\n",
    "    phi1_rad = math.radians(phi1)\n",
    "    x2 = x1 + d1 * math.cos(phi1_rad)\n",
    "    y2 = y1 + d1 * math.sin(phi1_rad)\n",
    "    z2 = z1  # Assuming z2 remains the same since no vertical angle is provided\n",
    "    return x2, y2, z2\n",
    "\n",
    "def calculate_distance(x1, y1, z1, x2, y2, z2):\n",
    "    return math.sqrt((x2 - x1) ** 2 + (y2 - y1) ** 2 + (z2 - z1) ** 2)\n",
    "\n",
    "def calculate_angle_between_vectors(d3, d4, d2):\n",
    "    # Using the cosine rule\n",
    "    try:\n",
    "        angle_rad = math.acos((d3 ** 2 + d4 ** 2 - d2 ** 2) / (2 * d3 * d4))\n",
    "        angle_deg = math.degrees(angle_rad)\n",
    "        return angle_rad, angle_deg\n",
    "    except ValueError:\n",
    "        return None, \"Invalid input values for calculating angle. Check distances.\"\n",
    "\n",
    "# Define known variables\n",
    "x1, y1, z1 = 1.0, 2.0, 3.0  # Example coordinates of the first point\n",
    "d1 = 5.0  # Distance from the first point to the second\n",
    "phi1 = 45.0  # Angle in degrees clockwise\n",
    "xb, yb, zb = 7.0, 8.0, 9.0  # Coordinates of the base point\n",
    "d3 = 6.0  # Example value for distance d3\n",
    "d4 = 7.0  # Example value for distance d4\n",
    "\n",
    "# Step 1: Calculate the second point\n",
    "x2, y2, z2 = calculate_second_point(x1, y1, z1, d1, phi1)\n",
    "print(f\"Second point: ({x2:.2f}, {y2:.2f}, {z2:.2f})\")\n",
    "\n",
    "# Step 2: Calculate the distance between the second point and the base point\n",
    "d2 = calculate_distance(x2, y2, z2, xb, yb, zb)\n",
    "print(f\"Distance between second point and base point: {d2:.2f}\")\n",
    "\n",
    "# Step 3: Calculate the angle between d3 and d4\n",
    "angle_rad, angle_deg = calculate_angle_between_vectors(d3, d4, d2)\n",
    "if angle_rad is not None:\n",
    "    print(f\"Angle between d3 and d4: {angle_deg:.2f} degrees\")\n",
    "else:\n",
    "    print(angle_deg)\n",
    "\n",
    "phi_2 = angle_deg"
   ]
  },
  {
   "cell_type": "markdown",
   "metadata": {},
   "source": [
    "lets call the angle from before phi_2.\n",
    "1. I want to have a circuil equestion by using (x_2,y_2,z_2) as it's center and d_1  is the radius (the distance between(x_2,y_2,z_2) and (x_1,y_1,z_1)).\n",
    "\n",
    "2.  I want to have a sphear that its center is (x_b,y_b,z_b) and it's radius is d_2 (the distance between (x_b,y_b,z_b) and (x_1,y_1,z_1) surface sphear)\n",
    "\n",
    "3. I want to calculate all the Trim points between teh sphear and the circuil."
   ]
  },
  {
   "cell_type": "code",
   "execution_count": 38,
   "metadata": {},
   "outputs": [
    {
     "name": "stdout",
     "output_type": "stream",
     "text": [
      "Second point: (4.54, 5.54, 3.00)\n",
      "Distance d2: 6.94\n",
      "Circle equation: (x - 4.535533905932738)² + (y - 5.535533905932738)² + (z - 3)² = 5²\n",
      "Sphere equation: (x - 7)² + (y - 8)² + (z - 9)² = 6.938817352951027²\n",
      "Trim points between circle and sphere:\n",
      "(4.61, 10.54, 3.00)\n",
      "(9.54, 5.61, 3.00)\n",
      "\n",
      "Complex trim points:\n",
      "(631373023275068.0 - 631373023275070.0*I, -631373023275062.0 - 631373023275061.0*I, 3.00000000000000)\n",
      "(631373023275068.0 + 631373023275070.0*I, -631373023275062.0 + 631373023275061.0*I, 3.00000000000000)\n"
     ]
    }
   ],
   "source": [
    "import math\n",
    "import numpy as np\n",
    "from scipy.spatial.transform import Rotation\n",
    "from sympy import symbols, Eq, solve\n",
    "\n",
    "def calculate_second_point(x1, y1, z1, d1, phi1):\n",
    "    # Convert phi1 to radians for calculations\n",
    "    phi1_rad = math.radians(phi1)\n",
    "    x2 = x1 + d1 * math.cos(phi1_rad)\n",
    "    y2 = y1 + d1 * math.sin(phi1_rad)\n",
    "    z2 = z1  # Assuming z2 remains the same since no vertical angle is provided\n",
    "    return x2, y2, z2\n",
    "\n",
    "def calculate_distance(x1, y1, z1, x2, y2, z2):\n",
    "    return math.sqrt((x2 - x1) ** 2 + (y2 - y1) ** 2 + (z2 - z1) ** 2)\n",
    "\n",
    "def calculate_angle_between_vectors(d3, d4, d2):\n",
    "    # Using the cosine rule\n",
    "    try:\n",
    "        angle_rad = math.acos((d3 ** 2 + d4 ** 2 - d2 ** 2) / (2 * d3 * d4))\n",
    "        angle_deg = math.degrees(angle_rad)\n",
    "        return angle_rad, angle_deg\n",
    "    except ValueError:\n",
    "        return None, \"Invalid input values for calculating angle. Check distances.\"\n",
    "\n",
    "def get_circle_points(center, radius, num_points=100):\n",
    "    # Generate points on a circle in 3D space\n",
    "    t = np.linspace(0, 2*np.pi, num_points)\n",
    "    x = np.full_like(t, center[0])  # Circle is in YZ plane\n",
    "    y = center[1] + radius * np.cos(t)\n",
    "    z = center[2] + radius * np.sin(t)\n",
    "    return np.column_stack((x, y, z))\n",
    "\n",
    "def get_sphere_points(center, radius, num_points=1000):\n",
    "    # Generate points on a sphere\n",
    "    phi = np.linspace(0, np.pi, int(np.sqrt(num_points)))\n",
    "    theta = np.linspace(0, 2*np.pi, int(np.sqrt(num_points)))\n",
    "    phi, theta = np.meshgrid(phi, theta)\n",
    "    \n",
    "    x = center[0] + radius * np.sin(phi) * np.cos(theta)\n",
    "    y = center[1] + radius * np.sin(phi) * np.sin(theta)\n",
    "    z = center[2] + radius * np.cos(phi)\n",
    "    return np.column_stack((x.flatten(), y.flatten(), z.flatten()))\n",
    "\n",
    "def find_intersection_points(circle_points, sphere_points, tolerance=0.1):\n",
    "    # Find intersection points between circle and sphere\n",
    "    intersection_points = []\n",
    "    for cp in circle_points:\n",
    "        # Find closest sphere points\n",
    "        distances = np.linalg.norm(sphere_points - cp, axis=1)\n",
    "        closest_idx = np.argmin(distances)\n",
    "        if distances[closest_idx] < tolerance:\n",
    "            intersection_points.append(cp)\n",
    "    return np.array(intersection_points)\n",
    "\n",
    "def calculate_trim_points(circle_center, circle_radius, sphere_center, sphere_radius):\n",
    "    # Define symbolic variables for the equations\n",
    "    X, Y, Z = symbols('X Y Z')\n",
    "\n",
    "    # Sphere equation: (X - xb)^2 + (Y - yb)^2 + (Z - zb)^2 = sphere_radius^2\n",
    "    sphere_eq = Eq((X - sphere_center[0])**2 + (Y - sphere_center[1])**2 + (Z - sphere_center[2])**2, sphere_radius**2)\n",
    "\n",
    "    # Circle equation in 3D: (X - x2)^2 + (Y - y2)^2 = circle_radius^2 and Z = z2\n",
    "    circle_eq = Eq((X - circle_center[0])**2 + (Y - circle_center[1])**2, circle_radius**2)\n",
    "    plane_eq = Eq(Z, circle_center[2])\n",
    "\n",
    "    # Solve the system of equations\n",
    "    solutions = solve([sphere_eq, circle_eq, plane_eq], (X, Y, Z))\n",
    "    return solutions\n",
    "\n",
    "\n",
    "# Define known variables\n",
    "x1, y1, z1 = 1, 2, 3  # Example coordinates of the first point\n",
    "d1 = 5  # Distance from the first point to the second\n",
    "phi1 = 45  # Angle in degrees clockwise\n",
    "xb, yb, zb = 7, 8, 9  # Coordinates of the base point\n",
    "d3 = 6  # Example value for distance d3\n",
    "d4 = 7  # Example value for distance d4\n",
    "\n",
    "# Step 1: Calculate the second point (x2, y2, z2)\n",
    "x2, y2, z2 = calculate_second_point(x1, y1, z1, d1, phi1)\n",
    "print(f\"Second point: ({x2:.2f}, {y2:.2f}, {z2:.2f})\")\n",
    "\n",
    "# Step 2: Calculate d2 (distance between second point and base point)\n",
    "d2 = calculate_distance(x2, y2, z2, xb, yb, zb)\n",
    "print(f\"Distance d2: {d2:.2f}\")\n",
    "\n",
    "# Step 3: Generate circle points centered at (x2, y2, z2) with radius d1\n",
    "circle_center = np.array([x2, y2, z2])\n",
    "circle_points = get_circle_points(circle_center, d1)\n",
    "print(\"Circle equation: (x - {})² + (y - {})² + (z - {})² = {}²\".format(x2, y2, z2, d1))\n",
    "\n",
    "# Step 4: Generate sphere points centered at (xb, yb, zb) with radius d2\n",
    "sphere_center = np.array([xb, yb, zb])\n",
    "sphere_points = get_sphere_points(sphere_center, d2)\n",
    "print(\"Sphere equation: (x - {})² + (y - {})² + (z - {})² = {}²\".format(xb, yb, zb, d2))\n",
    "\n",
    "# Step 5: Find intersection points (trim points)\n",
    "# trim_points = find_intersection_points(circle_points, sphere_points)\n",
    "trim_points_complex = []\n",
    "trim_points = []\n",
    "solutions = calculate_trim_points(circle_center, d1, sphere_center, d2)\n",
    "for point in solutions:\n",
    "    # Check if any coordinate in the point contains 'I'\n",
    "    if any('I' in str(coord) for coord in point):\n",
    "        trim_points_complex.append(point)\n",
    "    else:\n",
    "        trim_points.append(point)\n",
    "\n",
    "print(\"Trim points between circle and sphere:\")\n",
    "for point in trim_points:\n",
    "    try:\n",
    "        # Attempt to evaluate and format each coordinate\n",
    "        x_trim, y_trim, z_trim = [float(coord.evalf()) for coord in point]\n",
    "        print(f\"({x_trim:.2f}, {y_trim:.2f}, {z_trim:.2f})\")\n",
    "    except (TypeError, ValueError):\n",
    "        # Handle cases where the evaluation fails\n",
    "        print(f\"Could not evaluate point: {point}\")\n",
    "\n",
    "print(\"\\nComplex trim points:\")\n",
    "for point in trim_points_complex:\n",
    "    try:\n",
    "        # Print the complex points directly since they can't be converted to float\n",
    "        print(f\"({point[0]}, {point[1]}, {point[2]})\")\n",
    "    except (TypeError, ValueError):\n",
    "        print(f\"Could not format complex point: {point}\")\n"
   ]
  },
  {
   "cell_type": "markdown",
   "metadata": {},
   "source": [
    "Lets call trim_points as (x_4_i,y_4_i) while i passing all the Trimp Points we found.\n",
    "\n",
    "Let's loop for value in trim_points:\n",
    "\n",
    "1. I want to calculate the disstance between (x_1,y_1) and the point (x_4_i,y_4_i) lets call it d5\n",
    "\n",
    "2. the disstance between (x_2,y_2) and the point (x_4_i,y_4_i) is d4.\n",
    "\n",
    "3. The distance between (x_1,y_1) and the point (x_2,y_2) is d1. \n",
    "\n",
    "4. I want to calculate the angle from d1 to d4 clock wise (very inportent) using \n",
    "Law of cosines. Lets call this angle phi_3\n"
   ]
  },
  {
   "cell_type": "code",
   "execution_count": 39,
   "metadata": {},
   "outputs": [
    {
     "name": "stdout",
     "output_type": "stream",
     "text": [
      "Angle calculations for each trim point:\n",
      "Trim point: (4.61, 10.54, 3.00), Phi_3: 135.83°\n",
      "Trim point: (9.54, 5.61, 3.00), Phi_3: 135.83°\n"
     ]
    }
   ],
   "source": [
    "from math import acos, degrees, sqrt\n",
    "\n",
    "# Function to calculate distance between two points\n",
    "def calculate_distance(point1, point2):\n",
    "    return sqrt((point1[0] - point2[0])**2 + \n",
    "                (point1[1] - point2[1])**2 + \n",
    "                (point1[2] - point2[2])**2)\n",
    "\n",
    "# Define distances and coordinates lists\n",
    "x4, y4, z4 = [], [], []\n",
    "d4, d5 = [], []\n",
    "\n",
    "# Distance between (x1, y1, z1) and (x2, y2, z2)\n",
    "d1 = calculate_distance((x1, y1, z1), (x2, y2, z2))\n",
    "\n",
    "print(\"Angle calculations for each trim point:\")\n",
    "for point in trim_points:\n",
    "    try:\n",
    "        # Extract trim point coordinates\n",
    "        x, y, z = [float(coord.evalf()) for coord in point]\n",
    "        x4.append(x)\n",
    "        y4.append(y)\n",
    "        z4.append(z)\n",
    "        \n",
    "        # Calculate distances\n",
    "        d5_val = calculate_distance((x1, y1, z1), (x, y, z))  # Distance to (x1, y1, z1)\n",
    "        d4_val = calculate_distance((x2, y2, z2), (x, y, z))  # Distance to (x2, y2, z2)\n",
    "        d5.append(d5_val)\n",
    "        d4.append(d4_val)\n",
    "        \n",
    "        # Calculate angle phi_3 using the Law of Cosines\n",
    "        # cos(phi_3) = (d1^2 + d4[i]^2 - d5[i]^2) / (2 * d1 * d4[i])\n",
    "        if d1 > 0 and d4_val > 0:  # Ensure distances are non-zero to avoid division errors\n",
    "            cos_phi3 = (d1**2 + d4_val**2 - d5_val**2) / (2 * d1 * d4_val)\n",
    "            # Clamp cos_phi3 to the range [-1, 1] to avoid math domain errors due to floating-point inaccuracies\n",
    "            cos_phi3 = max(-1, min(1, cos_phi3))\n",
    "            phi_3 = degrees(acos(cos_phi3))  # Convert to degrees\n",
    "            print(f\"Trim point: ({x:.2f}, {y:.2f}, {z:.2f}), Phi_3: {phi_3:.2f}°\")\n",
    "        else:\n",
    "            print(f\"Trim point: ({x:.2f}, {y:.2f}, {z:.2f}), Phi_3: Undefined (d1 or d4 is zero)\")\n",
    "    except Exception as e:\n",
    "        print(f\"Error processing trim point {point}: {e}\")\n"
   ]
  },
  {
   "cell_type": "markdown",
   "metadata": {},
   "source": [
    "Using the trim_point (x_4,y_4,z_4)[0]  and phi_3[0]\n",
    "We calculate the distance :\n",
    "1. between (x2,y2) and (xb,yb) let's call it d6\n",
    "2. between (xb,yb) and (x4,y4) lets call it d7\n",
    "3. between (x4,y4) and (x2,y2)  lets call it d8\n",
    "\n",
    "use the cosine equestion to calculate the angle between f7 and d8"
   ]
  },
  {
   "cell_type": "code",
   "execution_count": 40,
   "metadata": {},
   "outputs": [
    {
     "name": "stdout",
     "output_type": "stream",
     "text": [
      "Distances: d6: 3.49, d7: 3.49, d8: 5.00\n",
      "Angle between d7 and d8: 44.17°\n"
     ]
    }
   ],
   "source": [
    "from math import sqrt, acos, degrees\n",
    "\n",
    "# Function to calculate 2D distance\n",
    "def calculate_distance_2d(point1, point2):\n",
    "    return sqrt((point1[0] - point2[0])**2 + (point1[1] - point2[1])**2)\n",
    "\n",
    "# Function to calculate the angle using the cosine law\n",
    "def calculate_angle_cosine(d1, d2, d3):\n",
    "    # Ensure distances are valid for a triangle\n",
    "    if d1 * d2 == 0:\n",
    "        raise ValueError(\"Invalid distances, cannot calculate angle.\")\n",
    "    # Apply the cosine law formula\n",
    "    cos_theta = (d1**2 + d2**2 - d3**2) / (2 * d1 * d2)\n",
    "    cos_theta = max(min(cos_theta, 1), -1)  # Clamp to avoid numerical issues\n",
    "    return degrees(acos(cos_theta))\n",
    "\n",
    "# Coordinates of points\n",
    "x4, y4, z4 = [float(coord.evalf()) for coord in trim_points[0]]  # First trim point\n",
    "\n",
    "# Calculate distances\n",
    "d6 = calculate_distance_2d((x2, y2), (xb, yb))  # Distance between (x2, y2) and (xb, yb)\n",
    "d7 = calculate_distance_2d((xb, yb), (x4, y4))  # Distance between (xb, yb) and (x4, y4)\n",
    "d8 = calculate_distance_2d((x4, y4), (x2, y2))  # Distance between (x4, y4) and (x2, y2)\n",
    "\n",
    "# Calculate angle between d7 and d8 using cosine law\n",
    "try:\n",
    "    angle_f7_d8 = calculate_angle_cosine(d7, d8, d6)\n",
    "    print(f\"Distances: d6: {d6:.2f}, d7: {d7:.2f}, d8: {d8:.2f}\")\n",
    "    print(f\"Angle between d7 and d8: {angle_f7_d8:.2f}°\")\n",
    "except ValueError as e:\n",
    "    print(f\"Error calculating angle: {e}\")\n",
    "\n",
    "phi_4 = angle_f7_d8 \n"
   ]
  },
  {
   "cell_type": "markdown",
   "metadata": {},
   "source": [
    "Calculate the angle between d7 and d6. call it phi_5"
   ]
  },
  {
   "cell_type": "code",
   "execution_count": 41,
   "metadata": {},
   "outputs": [
    {
     "name": "stdout",
     "output_type": "stream",
     "text": [
      "Distances: d6: 3.49, d7: 3.49, d8: 5.00\n",
      "Angle between d7 and d6 (phi_5): 91.66°\n"
     ]
    }
   ],
   "source": [
    "# Calculate angles\n",
    "try:\n",
    "    phi_5 = calculate_angle_cosine(d7, d6, d8)  # Angle between d7 and d6\n",
    "    print(f\"Distances: d6: {d6:.2f}, d7: {d7:.2f}, d8: {d8:.2f}\")\n",
    "    print(f\"Angle between d7 and d6 (phi_5): {phi_5:.2f}°\")\n",
    "except ValueError as e:\n",
    "    print(f\"Error calculating angle: {e}\")\n"
   ]
  },
  {
   "cell_type": "markdown",
   "metadata": {},
   "source": [
    "Find the point that is distance from (x2,y2) in d6 and it have yb as a known value for y value. This point will be (x5,y5). chack if one of the  values is xb and if so ignore it "
   ]
  },
  {
   "cell_type": "code",
   "execution_count": 42,
   "metadata": {},
   "outputs": [
    {
     "name": "stdout",
     "output_type": "stream",
     "text": [
      "Possible x-coordinates for the point (excluding xb=7): [2.0710678118654755]\n",
      "Point: (2.07, 8.00)\n"
     ]
    }
   ],
   "source": [
    "from math import sqrt\n",
    "\n",
    "def find_x_given_y_exclude_xb(x2, y2, yb, d6, xb):\n",
    "    try:\n",
    "        term = d6**2 - (yb - y2)**2\n",
    "        if term < 0:\n",
    "            raise ValueError(\"No real solution exists for the given inputs.\")\n",
    "        \n",
    "        sqrt_term = sqrt(term)\n",
    "        x5_positive = x2 + sqrt_term\n",
    "        x5_negative = x2 - sqrt_term\n",
    "        \n",
    "        # Exclude xb from the results\n",
    "        solutions = []\n",
    "        if abs(x5_positive - xb) > 1e-6:  # Tolerance for floating-point comparisons\n",
    "            solutions.append(x5_positive)\n",
    "        if abs(x5_negative - xb) > 1e-6:\n",
    "            solutions.append(x5_negative)\n",
    "        \n",
    "        return solutions\n",
    "    except Exception as e:\n",
    "        print(f\"Error: {e}\")\n",
    "        return []\n",
    "\n",
    "x5_solutions = find_x_given_y_exclude_xb(x2, y2, yb, d6, xb)\n",
    "if x5_solutions:\n",
    "    print(f\"Possible x-coordinates for the point (excluding xb={xb}): {x5_solutions}\")\n",
    "    for x5 in x5_solutions:\n",
    "        print(f\"Point: ({x5:.2f}, {yb:.2f})\")\n",
    "else:\n",
    "    print(\"No solution found.\")\n"
   ]
  },
  {
   "cell_type": "markdown",
   "metadata": {},
   "source": [
    "The distance between (x5,y5) to (xb,yb) call it d7 \n",
    "use the cosine sentense to calculate the angle between d6 and d7 (the values are d6,d6 and d7)\n",
    "This angle will call phi_6"
   ]
  },
  {
   "cell_type": "code",
   "execution_count": 43,
   "metadata": {},
   "outputs": [
    {
     "name": "stdout",
     "output_type": "stream",
     "text": [
      "Distance d6: 3.61\n",
      "Distance d7: 2.00\n",
      "Angle phi_6: 32.20°\n"
     ]
    }
   ],
   "source": [
    "from math import acos, degrees, sqrt\n",
    "\n",
    "# Function to calculate distance between two points\n",
    "def calculate_distance(point1, point2):\n",
    "    return sqrt((point1[0] - point2[0])**2 + (point1[1] - point2[1])**2)\n",
    "\n",
    "# Function to calculate phi_6\n",
    "def calculate_phi_6(x2, y2, x5, y5, xb, yb):\n",
    "    try:\n",
    "        # Calculate distances\n",
    "        d6 = calculate_distance((x2, y2), (x5, y5))\n",
    "        d7 = calculate_distance((x5, y5), (xb, yb))\n",
    "        \n",
    "        # Use the Law of Cosines to calculate the angle\n",
    "        if d6 > 0:  # Ensure d6 is non-zero to avoid division by zero\n",
    "            cos_phi_6 = (d6**2 + d6**2 - d7**2) / (2 * d6 * d6)\n",
    "            # Clamp cos_phi_6 to the range [-1, 1] to handle floating-point inaccuracies\n",
    "            cos_phi_6 = max(-1, min(1, cos_phi_6))\n",
    "            phi_6 = degrees(acos(cos_phi_6))\n",
    "            return d6, d7, phi_6\n",
    "        else:\n",
    "            raise ValueError(\"d6 is zero, cannot calculate angle.\")\n",
    "    except Exception as e:\n",
    "        print(f\"Error: {e}\")\n",
    "        return None, None, None\n",
    "\n",
    "# Example usage\n",
    "x2, y2 = 5, 5  # Coordinates of point 2\n",
    "x5, y5 = 8, 7  # Coordinates of point 5\n",
    "xb, yb = 6, 7  # Coordinates of point b\n",
    "\n",
    "d6, d7, phi_6 = calculate_phi_6(x2, y2, x5, y5, xb, yb)\n",
    "if phi_6 is not None:\n",
    "    print(f\"Distance d6: {d6:.2f}\")\n",
    "    print(f\"Distance d7: {d7:.2f}\")\n",
    "    print(f\"Angle phi_6: {phi_6:.2f}°\")\n",
    "else:\n",
    "    print(\"Failed to calculate phi_6.\")\n"
   ]
  },
  {
   "cell_type": "markdown",
   "metadata": {},
   "source": [
    "Sum phi_5 + phi_6 - 60 dgrees"
   ]
  },
  {
   "cell_type": "code",
   "execution_count": 44,
   "metadata": {},
   "outputs": [
    {
     "data": {
      "text/plain": [
       "63.8686114407719"
      ]
     },
     "execution_count": 44,
     "metadata": {},
     "output_type": "execute_result"
    }
   ],
   "source": [
    "phi_7 = phi_5 + phi_6 - 60\n",
    "phi_7"
   ]
  },
  {
   "cell_type": "markdown",
   "metadata": {},
   "source": [
    "Let's calculate phi_8 angle by using the projection the trapezoid between (𝑥1,𝑦1,𝑧1), (𝑥4,𝑦4,𝑧4), (xb,yb,zb) and the base\n",
    "\n"
   ]
  },
  {
   "cell_type": "code",
   "execution_count": 45,
   "metadata": {},
   "outputs": [
    {
     "name": "stdout",
     "output_type": "stream",
     "text": [
      "phi_8: 116.02°\n"
     ]
    }
   ],
   "source": [
    "phi_8 = 360 - (phi_2 + 90 + 90)\n",
    "print(f\"phi_8: {phi_8:.2f}°\")"
   ]
  },
  {
   "cell_type": "markdown",
   "metadata": {},
   "source": [
    "y9=yb and z9 = z4\n",
    "To calculate the angle between arm (y2,z2),(yb,zb) to arm (yb,zb),(y9,z9) \n",
    "call it phi_9."
   ]
  },
  {
   "cell_type": "code",
   "execution_count": 47,
   "metadata": {},
   "outputs": [
    {
     "name": "stdout",
     "output_type": "stream",
     "text": [
      "Distances: d_yb_z2: 6.32, d_yb_z9: 6.00, d_z2_z9: 2.00\n",
      "Angle between arms (phi_9): 18.43°\n"
     ]
    }
   ],
   "source": [
    "from math import acos, degrees, sqrt\n",
    "\n",
    "# Function to calculate distance in 2D\n",
    "def calculate_distance_2d(coord1, coord2):\n",
    "    return sqrt((coord1[0] - coord2[0])**2 + (coord1[1] - coord2[1])**2)\n",
    "\n",
    "# Function to calculate angle using cosine law\n",
    "def calculate_angle_cosine(d1, d2, d3):\n",
    "    if d1 * d2 == 0:\n",
    "        raise ValueError(\"Invalid distances, cannot calculate angle.\")\n",
    "    cos_theta = (d1**2 + d2**2 - d3**2) / (2 * d1 * d2)\n",
    "    cos_theta = max(min(cos_theta, 1), -1)  # Clamp to avoid numerical issues\n",
    "    return degrees(acos(cos_theta))\n",
    "\n",
    "# Known coordinates\n",
    "y9, z9 = yb, float(trim_points[0][2].evalf())  # Coordinates of (y9, z9), z9 = z4\n",
    "\n",
    "# Calculate distances\n",
    "d_yb_z2 = calculate_distance_2d((y2, z2), (yb, zb))  # Distance between (y2, z2) and (yb, zb)\n",
    "d_yb_z9 = calculate_distance_2d((yb, zb), (y9, z9))  # Distance between (yb, zb) and (y9, z9)\n",
    "d_z2_z9 = calculate_distance_2d((y2, z2), (y9, z9))  # Distance between (y2, z2) and (y9, z9)\n",
    "\n",
    "# Calculate phi_9\n",
    "try:\n",
    "    phi_9 = calculate_angle_cosine(d_yb_z2, d_yb_z9, d_z2_z9)  # Angle between arms\n",
    "    print(f\"Distances: d_yb_z2: {d_yb_z2:.2f}, d_yb_z9: {d_yb_z9:.2f}, d_z2_z9: {d_z2_z9:.2f}\")\n",
    "    print(f\"Angle between arms (phi_9): {phi_9:.2f}°\")\n",
    "except ValueError as e:\n",
    "    print(f\"Error calculating angle: {e}\")\n"
   ]
  }
 ],
 "metadata": {
  "kernelspec": {
   "display_name": "Python 3",
   "language": "python",
   "name": "python3"
  },
  "language_info": {
   "codemirror_mode": {
    "name": "ipython",
    "version": 3
   },
   "file_extension": ".py",
   "mimetype": "text/x-python",
   "name": "python",
   "nbconvert_exporter": "python",
   "pygments_lexer": "ipython3",
   "version": "3.10.11"
  }
 },
 "nbformat": 4,
 "nbformat_minor": 2
}
